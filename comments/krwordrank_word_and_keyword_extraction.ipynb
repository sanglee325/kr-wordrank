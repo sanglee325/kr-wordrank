{
 "cells": [
  {
   "cell_type": "code",
   "execution_count": 40,
   "metadata": {},
   "outputs": [],
   "source": [
    "import krwordrank\n",
    "#print(krwordrank.__version__)\n",
    "\n",
    "import pandas as pd\n",
    "\n",
    "# Comments data\n",
    "fname = '../data/predicted_data/nsmc_youtube_review_test.tsv'\n",
    "\n",
    "def get_text_predicts(fname):\n",
    "    dataset = pd.read_csv(fname, delimiter='\\t')\n",
    "    neg_texts = dataset.loc[dataset['prediction'] == 0]\n",
    "    pos_texts = dataset.loc[dataset['prediction'] == 1]\n",
    "\n",
    "    return list(neg_texts['text']), list(pos_texts['text'])"
   ]
  },
  {
   "cell_type": "code",
   "execution_count": 41,
   "metadata": {},
   "outputs": [],
   "source": [
    "import sys\n",
    "sys.path.append('../')\n",
    "from krwordrank.word import KRWordRank\n",
    "from krwordrank.hangle import normalize\n",
    "import krwordrank\n",
    "#print(krwordrank.__version__)"
   ]
  },
  {
   "cell_type": "code",
   "execution_count": 42,
   "metadata": {},
   "outputs": [],
   "source": [
    "# Comments data\n",
    "fname = '../data/predicted_data/nsmc_youtube_review_test.tsv'\n",
    "\n",
    "neg_texts, pos_texts = get_text_predicts(fname)"
   ]
  },
  {
   "cell_type": "code",
   "execution_count": 43,
   "metadata": {},
   "outputs": [
    {
     "output_type": "stream",
     "name": "stdout",
     "text": [
      "scan vocabs ... \n",
      "num vocabs = 289\n",
      "done\n"
     ]
    }
   ],
   "source": [
    "neg_wordrank_extractor = KRWordRank(\n",
    "    min_count = 5, # 단어의 최소 출현 빈도수 (그래프 생성 시)\n",
    "    max_length = 10, # 단어의 최대 길이\n",
    "    verbose = True\n",
    "    )\n",
    "\n",
    "beta = 0.85    # PageRank의 decaying factor beta\n",
    "max_iter = 10\n",
    "\n",
    "neg_keywords, neg_rank, neg_graph = neg_wordrank_extractor.extract(neg_texts, beta, max_iter, num_keywords=100)"
   ]
  },
  {
   "cell_type": "code",
   "execution_count": 44,
   "metadata": {},
   "outputs": [
    {
     "output_type": "stream",
     "name": "stdout",
     "text": [
      "scan vocabs ... \n",
      "num vocabs = 490\n",
      "done\n"
     ]
    }
   ],
   "source": [
    "pos_wordrank_extractor = KRWordRank(\n",
    "    min_count = 5, # 단어의 최소 출현 빈도수 (그래프 생성 시)\n",
    "    max_length = 10, # 단어의 최대 길이\n",
    "    verbose = True\n",
    "    )\n",
    "\n",
    "beta = 0.85    # PageRank의 decaying factor beta\n",
    "max_iter = 10\n",
    "\n",
    "pos_keywords, pos_rank, pos_graph = pos_wordrank_extractor.extract(pos_texts, beta, max_iter, num_keywords=100)"
   ]
  },
  {
   "cell_type": "code",
   "execution_count": 45,
   "metadata": {},
   "outputs": [
    {
     "output_type": "stream",
     "name": "stdout",
     "text": [
      "     런민기:\t4.1329\n      무슨:\t3.7466\n     카러플:\t3.6175\n      잘못:\t3.0597\n      영상:\t2.7246\n     민기님:\t2.5406\n      아니:\t2.5093\n      근데:\t2.4669\n     이렇게:\t2.1823\n      사과:\t2.1772\n      진짜:\t1.7570\n    잼민이들:\t1.6623\n     켜져있:\t1.4149\n      댓글:\t1.3817\n      자숙:\t1.2638\n     실수가:\t1.2468\n      이제:\t1.2025\n      카트:\t1.1938\n      일이:\t1.1835\n      반성:\t1.1402\n      있었:\t1.0655\n     오른쪽:\t1.0636\n     뒷광고:\t0.9904\n      있는:\t0.9701\n      그래:\t0.9560\n      복귀:\t0.9333\n      방송:\t0.8958\n     유튜버:\t0.8859\n      뒤에:\t0.8750\n      계속:\t0.8431\n      힘내:\t0.8090\n      하는:\t0.7979\n     메이플:\t0.7188\n      하지:\t0.6907\n      사람:\t0.6716\n     이영상:\t0.6410\n      다시:\t0.6391\n      해주:\t0.6356\n      안하:\t0.5878\n      이런:\t0.5846\n      그러:\t0.5643\n     시청자:\t0.5508\n      이러:\t0.5139\n     모르겠:\t0.5096\n      애들:\t0.4940\n      얼굴:\t0.4934\n      그렇:\t0.4737\n      구독:\t0.4723\n      프메:\t0.4092\n      뭔일:\t0.4073\n"
     ]
    }
   ],
   "source": [
    "for word, r in sorted(neg_keywords.items(), key=lambda x:x[1], reverse=True)[:50]:\n",
    "    print('%8s:\\t%.4f' % (word, r))"
   ]
  },
  {
   "cell_type": "code",
   "execution_count": 46,
   "metadata": {},
   "outputs": [
    {
     "output_type": "stream",
     "name": "stdout",
     "text": [
      "     민기님:\t8.2289\n     화이팅:\t6.8673\n      다시:\t6.0472\n     런민기:\t5.0524\n     괜찮아:\t3.7309\n      영상:\t3.1839\n      실수:\t3.0780\n     앞으로:\t2.9937\n      돌아:\t2.6846\n     사람은:\t2.4795\n      복귀:\t2.2163\n     열심히:\t2.0153\n      모습:\t1.9850\n     누구나:\t1.8915\n     드디어:\t1.8903\n      이런:\t1.7821\n      항상:\t1.7508\n   감사합니다:\t1.7506\n      많이:\t1.6771\n      진짜:\t1.6389\n     잘못을:\t1.6192\n     고마워:\t1.6053\n   좋겠습니다:\t1.5265\n      이제:\t1.5004\n     재밌는:\t1.4833\n      하는:\t1.4312\n      좋은:\t1.3956\n      정말:\t1.3396\n      너무:\t1.2817\n      응원:\t1.1731\n      형이:\t1.1390\n      유튜:\t1.1188\n     그리고:\t1.1187\n      힘내:\t1.0868\n     하지만:\t1.0856\n      방송:\t1.0472\n      그런:\t1.0318\n      반성:\t1.0209\n     기다렸:\t1.0184\n     카러플:\t1.0135\n      다른:\t0.9645\n     파이팅:\t0.9474\n     그래도:\t0.9305\n      이번:\t0.9297\n      보고:\t0.8765\n     이렇게:\t0.8357\n      사랑:\t0.8346\n      우리:\t0.8273\n      사과:\t0.7889\n      저는:\t0.7778\n"
     ]
    }
   ],
   "source": [
    "for word, r in sorted(pos_keywords.items(), key=lambda x:x[1], reverse=True)[:50]:\n",
    "    print('%8s:\\t%.4f' % (word, r))"
   ]
  },
  {
   "cell_type": "code",
   "execution_count": 47,
   "metadata": {},
   "outputs": [],
   "source": [
    "top_keywords = []\n",
    "top_keywords.append(\n",
    "    sorted(neg_keywords.items(), \n",
    "        key=lambda x:x[1], \n",
    "        reverse=True)[:50]\n",
    ")\n",
    "top_keywords.append(\n",
    "    sorted(pos_keywords.items(), \n",
    "        key=lambda x:x[1], \n",
    "        reverse=True)[:50]\n",
    ")"
   ]
  },
  {
   "cell_type": "code",
   "execution_count": 48,
   "metadata": {},
   "outputs": [
    {
     "output_type": "execute_result",
     "data": {
      "text/plain": [
       "15"
      ]
     },
     "metadata": {},
     "execution_count": 48
    }
   ],
   "source": [
    "keyword_counter = {}\n",
    "for keywords in top_keywords:\n",
    "    words, ranks = zip(*keywords)\n",
    "    for word in words:\n",
    "        keyword_counter[word] = keyword_counter.get(word, 0) + 1\n",
    "\n",
    "common_keywords = {word for word, count in keyword_counter.items() if count == 2}\n",
    "len(common_keywords)"
   ]
  },
  {
   "cell_type": "code",
   "execution_count": 49,
   "metadata": {},
   "outputs": [
    {
     "output_type": "execute_result",
     "data": {
      "text/plain": [
       "\"{'다시', '사과', '반성', '힘내', '복귀', '카러플', '방송', '하는', '이런', '이제', '민기님', '이렇게', '영상', '진짜', '런민기'}\""
      ]
     },
     "metadata": {},
     "execution_count": 49
    }
   ],
   "source": [
    "str(common_keywords)"
   ]
  },
  {
   "cell_type": "code",
   "execution_count": 50,
   "metadata": {},
   "outputs": [],
   "source": [
    "selected_top_keywords = []\n",
    "for keywords in top_keywords:\n",
    "    selected_keywords = []\n",
    "    for word, r in keywords:\n",
    "        if word in common_keywords:\n",
    "            continue\n",
    "        selected_keywords.append((word, r))\n",
    "    selected_top_keywords.append(selected_keywords)"
   ]
  },
  {
   "cell_type": "code",
   "execution_count": 51,
   "metadata": {},
   "outputs": [],
   "source": [
    "def get_from_list(l, i, default=('', 0)):\n",
    "    if len(l) <= i:\n",
    "        return default\n",
    "    else:\n",
    "        return l[i]"
   ]
  },
  {
   "cell_type": "code",
   "execution_count": 52,
   "metadata": {},
   "outputs": [
    {
     "output_type": "stream",
     "name": "stdout",
     "text": [
      "      무슨 (3.747)  --       화이팅 (6.867)\n      잘못 (3.060)  --       괜찮아 (3.731)\n      아니 (2.509)  --        실수 (3.078)\n      근데 (2.467)  --       앞으로 (2.994)\n    잼민이들 (1.662)  --        돌아 (2.685)\n     켜져있 (1.415)  --       사람은 (2.479)\n      댓글 (1.382)  --       열심히 (2.015)\n      자숙 (1.264)  --        모습 (1.985)\n     실수가 (1.247)  --       누구나 (1.891)\n      카트 (1.194)  --       드디어 (1.890)\n      일이 (1.184)  --        항상 (1.751)\n      있었 (1.065)  --     감사합니다 (1.751)\n     오른쪽 (1.064)  --        많이 (1.677)\n     뒷광고 (0.990)  --       잘못을 (1.619)\n      있는 (0.970)  --       고마워 (1.605)\n      그래 (0.956)  --     좋겠습니다 (1.527)\n     유튜버 (0.886)  --       재밌는 (1.483)\n      뒤에 (0.875)  --        좋은 (1.396)\n      계속 (0.843)  --        정말 (1.340)\n     메이플 (0.719)  --        너무 (1.282)\n      하지 (0.691)  --        응원 (1.173)\n      사람 (0.672)  --        형이 (1.139)\n     이영상 (0.641)  --        유튜 (1.119)\n      해주 (0.636)  --       그리고 (1.119)\n      안하 (0.588)  --       하지만 (1.086)\n      그러 (0.564)  --        그런 (1.032)\n     시청자 (0.551)  --       기다렸 (1.018)\n      이러 (0.514)  --        다른 (0.965)\n     모르겠 (0.510)  --       파이팅 (0.947)\n      애들 (0.494)  --       그래도 (0.931)\n      얼굴 (0.493)  --        이번 (0.930)\n      그렇 (0.474)  --        보고 (0.876)\n      구독 (0.472)  --        사랑 (0.835)\n      프메 (0.409)  --        우리 (0.827)\n      뭔일 (0.407)  --        저는 (0.778)\n"
     ]
    }
   ],
   "source": [
    "for k in range(50 - len(common_keywords) ):\n",
    "    \n",
    "    message = '  --  '.join(\n",
    "        ['%8s (%.3f)' % get_from_list(selected_top_keywords[i], k) for i in range(2)])\n",
    "    \n",
    "    print(message)\n",
    "    "
   ]
  }
 ],
 "metadata": {
  "anaconda-cloud": {},
  "kernelspec": {
   "name": "Python 3.7.7 64-bit ('wordrank': conda)",
   "display_name": "Python 3.7.7 64-bit ('wordrank': conda)",
   "metadata": {
    "interpreter": {
     "hash": "e87c2110e5133ee0720b916bce9f1872065f38b06ca253dc96c14aa6141c56e9"
    }
   }
  },
  "language_info": {
   "codemirror_mode": {
    "name": "ipython",
    "version": 3
   },
   "file_extension": ".py",
   "mimetype": "text/x-python",
   "name": "python",
   "nbconvert_exporter": "python",
   "pygments_lexer": "ipython3",
   "version": "3.7.7-final"
  }
 },
 "nbformat": 4,
 "nbformat_minor": 1
}